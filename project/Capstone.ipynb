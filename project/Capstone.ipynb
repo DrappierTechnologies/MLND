{
 "cells": [
  {
   "cell_type": "markdown",
   "metadata": {},
   "source": [
    "## Setup"
   ]
  },
  {
   "cell_type": "code",
   "execution_count": 35,
   "metadata": {},
   "outputs": [
    {
     "data": {
      "text/html": [
       "<script type=\"text/javascript\">window.PlotlyConfig = {MathJaxConfig: 'local'};</script><script type=\"text/javascript\">if (window.MathJax) {MathJax.Hub.Config({SVG: {font: \"STIX-Web\"}});}</script><script>requirejs.config({paths: { 'plotly': ['https://cdn.plot.ly/plotly-latest.min']},});if(!window._Plotly) {require(['plotly'],function(plotly) {window._Plotly=plotly;});}</script>"
      ],
      "text/vnd.plotly.v1+html": [
       "<script type=\"text/javascript\">window.PlotlyConfig = {MathJaxConfig: 'local'};</script><script type=\"text/javascript\">if (window.MathJax) {MathJax.Hub.Config({SVG: {font: \"STIX-Web\"}});}</script><script>requirejs.config({paths: { 'plotly': ['https://cdn.plot.ly/plotly-latest.min']},});if(!window._Plotly) {require(['plotly'],function(plotly) {window._Plotly=plotly;});}</script>"
      ]
     },
     "metadata": {},
     "output_type": "display_data"
    },
    {
     "name": "stdout",
     "output_type": "stream",
     "text": [
      "[nltk_data] Downloading package punkt to\n",
      "[nltk_data]     C:\\Users\\Daddy\\AppData\\Roaming\\nltk_data...\n",
      "[nltk_data]   Package punkt is already up-to-date!\n",
      "[nltk_data] Downloading package stopwords to\n",
      "[nltk_data]     C:\\Users\\Daddy\\AppData\\Roaming\\nltk_data...\n",
      "[nltk_data]   Package stopwords is already up-to-date!\n"
     ]
    },
    {
     "data": {
      "text/plain": [
       "{'a',\n",
       " 'about',\n",
       " 'above',\n",
       " 'after',\n",
       " 'again',\n",
       " 'against',\n",
       " 'ain',\n",
       " 'all',\n",
       " 'am',\n",
       " 'an',\n",
       " 'and',\n",
       " 'any',\n",
       " 'are',\n",
       " 'aren',\n",
       " \"aren't\",\n",
       " 'as',\n",
       " 'at',\n",
       " 'be',\n",
       " 'because',\n",
       " 'been',\n",
       " 'before',\n",
       " 'being',\n",
       " 'below',\n",
       " 'between',\n",
       " 'both',\n",
       " 'but',\n",
       " 'by',\n",
       " 'can',\n",
       " 'couldn',\n",
       " \"couldn't\",\n",
       " 'd',\n",
       " 'did',\n",
       " 'didn',\n",
       " \"didn't\",\n",
       " 'do',\n",
       " 'does',\n",
       " 'doesn',\n",
       " \"doesn't\",\n",
       " 'doing',\n",
       " 'don',\n",
       " \"don't\",\n",
       " 'down',\n",
       " 'during',\n",
       " 'each',\n",
       " 'few',\n",
       " 'for',\n",
       " 'from',\n",
       " 'further',\n",
       " 'had',\n",
       " 'hadn',\n",
       " \"hadn't\",\n",
       " 'has',\n",
       " 'hasn',\n",
       " \"hasn't\",\n",
       " 'have',\n",
       " 'haven',\n",
       " \"haven't\",\n",
       " 'having',\n",
       " 'he',\n",
       " 'her',\n",
       " 'here',\n",
       " 'hers',\n",
       " 'herself',\n",
       " 'him',\n",
       " 'himself',\n",
       " 'his',\n",
       " 'how',\n",
       " 'i',\n",
       " 'if',\n",
       " 'in',\n",
       " 'into',\n",
       " 'is',\n",
       " 'isn',\n",
       " \"isn't\",\n",
       " 'it',\n",
       " \"it's\",\n",
       " 'its',\n",
       " 'itself',\n",
       " 'just',\n",
       " 'll',\n",
       " 'm',\n",
       " 'ma',\n",
       " 'me',\n",
       " 'mightn',\n",
       " \"mightn't\",\n",
       " 'more',\n",
       " 'most',\n",
       " 'mustn',\n",
       " \"mustn't\",\n",
       " 'my',\n",
       " 'myself',\n",
       " 'needn',\n",
       " \"needn't\",\n",
       " 'no',\n",
       " 'nor',\n",
       " 'not',\n",
       " 'now',\n",
       " 'o',\n",
       " 'of',\n",
       " 'off',\n",
       " 'on',\n",
       " 'once',\n",
       " 'only',\n",
       " 'or',\n",
       " 'other',\n",
       " 'our',\n",
       " 'ours',\n",
       " 'ourselves',\n",
       " 'out',\n",
       " 'over',\n",
       " 'own',\n",
       " 're',\n",
       " 's',\n",
       " 'same',\n",
       " 'shan',\n",
       " \"shan't\",\n",
       " 'she',\n",
       " \"she's\",\n",
       " 'should',\n",
       " \"should've\",\n",
       " 'shouldn',\n",
       " \"shouldn't\",\n",
       " 'so',\n",
       " 'some',\n",
       " 'such',\n",
       " 't',\n",
       " 'than',\n",
       " 'that',\n",
       " \"that'll\",\n",
       " 'the',\n",
       " 'their',\n",
       " 'theirs',\n",
       " 'them',\n",
       " 'themselves',\n",
       " 'then',\n",
       " 'there',\n",
       " 'these',\n",
       " 'they',\n",
       " 'this',\n",
       " 'those',\n",
       " 'through',\n",
       " 'to',\n",
       " 'too',\n",
       " 'under',\n",
       " 'until',\n",
       " 'up',\n",
       " 've',\n",
       " 'very',\n",
       " 'was',\n",
       " 'wasn',\n",
       " \"wasn't\",\n",
       " 'we',\n",
       " 'were',\n",
       " 'weren',\n",
       " \"weren't\",\n",
       " 'what',\n",
       " 'when',\n",
       " 'where',\n",
       " 'which',\n",
       " 'while',\n",
       " 'who',\n",
       " 'whom',\n",
       " 'why',\n",
       " 'will',\n",
       " 'with',\n",
       " 'won',\n",
       " \"won't\",\n",
       " 'wouldn',\n",
       " \"wouldn't\",\n",
       " 'y',\n",
       " 'you',\n",
       " \"you'd\",\n",
       " \"you'll\",\n",
       " \"you're\",\n",
       " \"you've\",\n",
       " 'your',\n",
       " 'yours',\n",
       " 'yourself',\n",
       " 'yourselves'}"
      ]
     },
     "execution_count": 35,
     "metadata": {},
     "output_type": "execute_result"
    }
   ],
   "source": [
    "import numpy as np\n",
    "import pandas as pd\n",
    "import torch\n",
    "import nltk\n",
    "import zipfile\n",
    "import fasttext\n",
    "import plotly.offline as py\n",
    "py.init_notebook_mode(connected=True)\n",
    "import plotly.graph_objs as go\n",
    "import plotly.tools as tls\n",
    "\n",
    "from pathlib import Path\n",
    "from InferSent.models import InferSent\n",
    "from sklearn.preprocessing import FunctionTransformer\n",
    "from sklearn.pipeline import Pipeline\n",
    "from sklearn.model_selection import train_test_split\n",
    "from sklearn.svm import SVC\n",
    "from sklearn.preprocessing import StandardScaler\n",
    "from sklearn.model_selection import GridSearchCV, RandomizedSearchCV\n",
    "from sklearn.metrics import accuracy_score, precision_score, recall_score, f1_score, confusion_matrix\n",
    "from sklearn.dummy import DummyClassifier\n",
    "from nltk.corpus import stopwords\n",
    "from nltk.tokenize import word_tokenize \n",
    "from wordcloud import WordCloud\n",
    "\n",
    "nltk.download('punkt')\n",
    "nltk.download('stopwords')\n",
    "set(stopwords.words('english'))"
   ]
  },
  {
   "cell_type": "code",
   "execution_count": 2,
   "metadata": {},
   "outputs": [
    {
     "name": "stdout",
     "output_type": "stream",
     "text": [
      "D:\\System\\Gamenomicron\\AI\\MLND\\project\\InferSent\n",
      "Updating 8aaaf40..940c003\n",
      "D:\\System\\Gamenomicron\\AI\\MLND\\project\n"
     ]
    },
    {
     "name": "stderr",
     "output_type": "stream",
     "text": [
      "error: Your local changes to the following files would be overwritten by merge:\n",
      "\tmodels.py\n",
      "Please commit your changes or stash them before you merge.\n",
      "Aborting\n"
     ]
    }
   ],
   "source": [
    "# clone or pull InferSent\n",
    "if not Path(\"InferSent\").is_dir():\n",
    "    !git clone https://github.com/facebookresearch/InferSent.git\n",
    "else:\n",
    "    %cd InferSent\n",
    "    !git pull\n",
    "    %cd ..\n",
    "\n",
    "# download and preprocess SNLI/MultiNLI datasets for fastText\n",
    "if not Path(\"InferSent/dataset/fastText\").exists():\n",
    "    %cd Infersent/dataset\n",
    "    %mkdir fastText\n",
    "    %cd ..\n",
    "    %cd ..\n",
    "    \n",
    "if not Path(\"InferSent/dataset/fastText/crawl-300d-2M.vec.zip\").is_file():\n",
    "    !curl -Lo dataset/fastText/crawl-300d-2M.vec.zip https://s3-us-west-1.amazonaws.com/fasttext-vectors/crawl-300d-2M.vec.zip\n",
    "\n",
    "if not Path(\"InferSent/encoder/infersent2.pkl\").is_file():\n",
    "    !curl -Lo InferSent/encoder/infersent2.pkl https://s3.amazonaws.com/senteval/infersent/infersent2.pkl"
   ]
  },
  {
   "cell_type": "code",
   "execution_count": 3,
   "metadata": {},
   "outputs": [],
   "source": [
    "if not Path(\"InferSent/dataset/fastText/crawl-300d-2M.vec/crawl-300d-2M.vec\").is_file():\n",
    "    zipfile.ZipFile(\"InferSent/dataset/fastText/crawl-300d-2M.vec.zip\").extractall(\".\").close()"
   ]
  },
  {
   "cell_type": "code",
   "execution_count": 4,
   "metadata": {},
   "outputs": [],
   "source": [
    "# Load pretrained InferSent model\n",
    "\n",
    "infersent_version = 2\n",
    "INFERSENT_PATH = \"InferSent/encoder/infersent%s.pkl\" % infersent_version\n",
    "infersent_params = {\n",
    "    'bsize': 64,\n",
    "    'word_emb_dim': 300,\n",
    "    'enc_lstm_dim': 2048,\n",
    "    'pool_type': 'max',\n",
    "    'dpout_model': 0.0,\n",
    "    'version': infersent_version\n",
    "}\n",
    "infersent = InferSent(infersent_params)\n",
    "infersent.load_state_dict(torch.load(INFERSENT_PATH))\n",
    "# infersent.cuda()"
   ]
  },
  {
   "cell_type": "code",
   "execution_count": 5,
   "metadata": {},
   "outputs": [],
   "source": [
    "# setting the word embeddings path to fastText\n",
    "infersent.set_w2v_path(\"InferSent/dataset/fastText/crawl-300d-2M.vec/crawl-300d-2M.vec\")"
   ]
  },
  {
   "cell_type": "code",
   "execution_count": 6,
   "metadata": {},
   "outputs": [
    {
     "name": "stdout",
     "output_type": "stream",
     "text": [
      "Vocab size : 100000\n"
     ]
    }
   ],
   "source": [
    "# Load embeddings of K most frequent words\n",
    "\n",
    "infersent.build_vocab_k_words(K=100000)"
   ]
  },
  {
   "cell_type": "markdown",
   "metadata": {},
   "source": [
    "## Loading the data"
   ]
  },
  {
   "cell_type": "code",
   "execution_count": 7,
   "metadata": {},
   "outputs": [
    {
     "data": {
      "text/html": [
       "<div>\n",
       "<style scoped>\n",
       "    .dataframe tbody tr th:only-of-type {\n",
       "        vertical-align: middle;\n",
       "    }\n",
       "\n",
       "    .dataframe tbody tr th {\n",
       "        vertical-align: top;\n",
       "    }\n",
       "\n",
       "    .dataframe thead th {\n",
       "        text-align: right;\n",
       "    }\n",
       "</style>\n",
       "<table border=\"1\" class=\"dataframe\">\n",
       "  <thead>\n",
       "    <tr style=\"text-align: right;\">\n",
       "      <th></th>\n",
       "      <th>date</th>\n",
       "      <th>label</th>\n",
       "      <th>top1</th>\n",
       "      <th>top2</th>\n",
       "      <th>top3</th>\n",
       "      <th>top4</th>\n",
       "      <th>top5</th>\n",
       "      <th>top6</th>\n",
       "      <th>top7</th>\n",
       "      <th>top8</th>\n",
       "      <th>...</th>\n",
       "      <th>top16</th>\n",
       "      <th>top17</th>\n",
       "      <th>top18</th>\n",
       "      <th>top19</th>\n",
       "      <th>top20</th>\n",
       "      <th>top21</th>\n",
       "      <th>top22</th>\n",
       "      <th>top23</th>\n",
       "      <th>top24</th>\n",
       "      <th>top25</th>\n",
       "    </tr>\n",
       "  </thead>\n",
       "  <tbody>\n",
       "    <tr>\n",
       "      <th>0</th>\n",
       "      <td>2008-08-08</td>\n",
       "      <td>0</td>\n",
       "      <td>b\"Georgia 'downs two Russian warplanes' as cou...</td>\n",
       "      <td>b'BREAKING: Musharraf to be impeached.'</td>\n",
       "      <td>b'Russia Today: Columns of troops roll into So...</td>\n",
       "      <td>b'Russian tanks are moving towards the capital...</td>\n",
       "      <td>b\"Afghan children raped with 'impunity,' U.N. ...</td>\n",
       "      <td>b'150 Russian tanks have entered South Ossetia...</td>\n",
       "      <td>b\"Breaking: Georgia invades South Ossetia, Rus...</td>\n",
       "      <td>b\"The 'enemy combatent' trials are nothing but...</td>\n",
       "      <td>...</td>\n",
       "      <td>b'Georgia Invades South Ossetia - if Russia ge...</td>\n",
       "      <td>b'Al-Qaeda Faces Islamist Backlash'</td>\n",
       "      <td>b'Condoleezza Rice: \"The US would not act to p...</td>\n",
       "      <td>b'This is a busy day:  The European Union has ...</td>\n",
       "      <td>b\"Georgia will withdraw 1,000 soldiers from Ir...</td>\n",
       "      <td>b'Why the Pentagon Thinks Attacking Iran is a ...</td>\n",
       "      <td>b'Caucasus in crisis: Georgia invades South Os...</td>\n",
       "      <td>b'Indian shoe manufactory  - And again in a se...</td>\n",
       "      <td>b'Visitors Suffering from Mental Illnesses Ban...</td>\n",
       "      <td>b\"No Help for Mexico's Kidnapping Surge\"</td>\n",
       "    </tr>\n",
       "    <tr>\n",
       "      <th>1</th>\n",
       "      <td>2008-08-11</td>\n",
       "      <td>1</td>\n",
       "      <td>b'Why wont America and Nato help us? If they w...</td>\n",
       "      <td>b'Bush puts foot down on Georgian conflict'</td>\n",
       "      <td>b\"Jewish Georgian minister: Thanks to Israeli ...</td>\n",
       "      <td>b'Georgian army flees in disarray as Russians ...</td>\n",
       "      <td>b\"Olympic opening ceremony fireworks 'faked'\"</td>\n",
       "      <td>b'What were the Mossad with fraudulent New Zea...</td>\n",
       "      <td>b'Russia angered by Israeli military sale to G...</td>\n",
       "      <td>b'An American citizen living in S.Ossetia blam...</td>\n",
       "      <td>...</td>\n",
       "      <td>b'Israel and the US behind the Georgian aggres...</td>\n",
       "      <td>b'\"Do not believe TV, neither Russian nor Geor...</td>\n",
       "      <td>b'Riots are still going on in Montreal (Canada...</td>\n",
       "      <td>b'China to overtake US as largest manufacturer'</td>\n",
       "      <td>b'War in South Ossetia [PICS]'</td>\n",
       "      <td>b'Israeli Physicians Group Condemns State Tort...</td>\n",
       "      <td>b' Russia has just beaten the United States ov...</td>\n",
       "      <td>b'Perhaps *the* question about the Georgia - R...</td>\n",
       "      <td>b'Russia is so much better at war'</td>\n",
       "      <td>b\"So this is what it's come to: trading sex fo...</td>\n",
       "    </tr>\n",
       "    <tr>\n",
       "      <th>2</th>\n",
       "      <td>2008-08-12</td>\n",
       "      <td>0</td>\n",
       "      <td>b'Remember that adorable 9-year-old who sang a...</td>\n",
       "      <td>b\"Russia 'ends Georgia operation'\"</td>\n",
       "      <td>b'\"If we had no sexual harassment we would hav...</td>\n",
       "      <td>b\"Al-Qa'eda is losing support in Iraq because ...</td>\n",
       "      <td>b'Ceasefire in Georgia: Putin Outmaneuvers the...</td>\n",
       "      <td>b'Why Microsoft and Intel tried to kill the XO...</td>\n",
       "      <td>b'Stratfor: The Russo-Georgian War and the Bal...</td>\n",
       "      <td>b\"I'm Trying to Get a Sense of This Whole Geor...</td>\n",
       "      <td>...</td>\n",
       "      <td>b'U.S. troops still in Georgia (did you know t...</td>\n",
       "      <td>b'Why Russias response to Georgia was right'</td>\n",
       "      <td>b'Gorbachev accuses U.S. of making a \"serious ...</td>\n",
       "      <td>b'Russia, Georgia, and NATO: Cold War Two'</td>\n",
       "      <td>b'Remember that adorable 62-year-old who led y...</td>\n",
       "      <td>b'War in Georgia: The Israeli connection'</td>\n",
       "      <td>b'All signs point to the US encouraging Georgi...</td>\n",
       "      <td>b'Christopher King argues that the US and NATO...</td>\n",
       "      <td>b'America: The New Mexico?'</td>\n",
       "      <td>b\"BBC NEWS | Asia-Pacific | Extinction 'by man...</td>\n",
       "    </tr>\n",
       "    <tr>\n",
       "      <th>3</th>\n",
       "      <td>2008-08-13</td>\n",
       "      <td>0</td>\n",
       "      <td>b' U.S. refuses Israel weapons to attack Iran:...</td>\n",
       "      <td>b\"When the president ordered to attack Tskhinv...</td>\n",
       "      <td>b' Israel clears troops who killed Reuters cam...</td>\n",
       "      <td>b'Britain\\'s policy of being tough on drugs is...</td>\n",
       "      <td>b'Body of 14 year old found in trunk; Latest (...</td>\n",
       "      <td>b'China has moved 10 *million* quake survivors...</td>\n",
       "      <td>b\"Bush announces Operation Get All Up In Russi...</td>\n",
       "      <td>b'Russian forces sink Georgian ships '</td>\n",
       "      <td>...</td>\n",
       "      <td>b'Elephants extinct by 2020?'</td>\n",
       "      <td>b'US humanitarian missions soon in Georgia - i...</td>\n",
       "      <td>b\"Georgia's DDOS came from US sources\"</td>\n",
       "      <td>b'Russian convoy heads into Georgia, violating...</td>\n",
       "      <td>b'Israeli defence minister: US against strike ...</td>\n",
       "      <td>b'Gorbachev: We Had No Choice'</td>\n",
       "      <td>b'Witness: Russian forces head towards Tbilisi...</td>\n",
       "      <td>b' Quarter of Russians blame U.S. for conflict...</td>\n",
       "      <td>b'Georgian president  says US military will ta...</td>\n",
       "      <td>b'2006: Nobel laureate Aleksander Solzhenitsyn...</td>\n",
       "    </tr>\n",
       "    <tr>\n",
       "      <th>4</th>\n",
       "      <td>2008-08-14</td>\n",
       "      <td>1</td>\n",
       "      <td>b'All the experts admit that we should legalis...</td>\n",
       "      <td>b'War in South Osetia - 89 pictures made by a ...</td>\n",
       "      <td>b'Swedish wrestler Ara Abrahamian throws away ...</td>\n",
       "      <td>b'Russia exaggerated the death toll in South O...</td>\n",
       "      <td>b'Missile That Killed 9 Inside Pakistan May Ha...</td>\n",
       "      <td>b\"Rushdie Condemns Random House's Refusal to P...</td>\n",
       "      <td>b'Poland and US agree to missle defense deal. ...</td>\n",
       "      <td>b'Will the Russians conquer Tblisi? Bet on it,...</td>\n",
       "      <td>...</td>\n",
       "      <td>b'Bank analyst forecast Georgian crisis 2 days...</td>\n",
       "      <td>b\"Georgia confict could set back Russia's US r...</td>\n",
       "      <td>b'War in the Caucasus is as much the product o...</td>\n",
       "      <td>b'\"Non-media\" photos of South Ossetia/Georgia ...</td>\n",
       "      <td>b'Georgian TV reporter shot by Russian sniper ...</td>\n",
       "      <td>b'Saudi Arabia: Mother moves to block child ma...</td>\n",
       "      <td>b'Taliban wages war on humanitarian aid workers'</td>\n",
       "      <td>b'Russia: World  \"can forget about\" Georgia\\'s...</td>\n",
       "      <td>b'Darfur rebels accuse Sudan of mounting major...</td>\n",
       "      <td>b'Philippines : Peace Advocate say Muslims nee...</td>\n",
       "    </tr>\n",
       "  </tbody>\n",
       "</table>\n",
       "<p>5 rows × 27 columns</p>\n",
       "</div>"
      ],
      "text/plain": [
       "         date  label                                               top1  \\\n",
       "0  2008-08-08      0  b\"Georgia 'downs two Russian warplanes' as cou...   \n",
       "1  2008-08-11      1  b'Why wont America and Nato help us? If they w...   \n",
       "2  2008-08-12      0  b'Remember that adorable 9-year-old who sang a...   \n",
       "3  2008-08-13      0  b' U.S. refuses Israel weapons to attack Iran:...   \n",
       "4  2008-08-14      1  b'All the experts admit that we should legalis...   \n",
       "\n",
       "                                                top2  \\\n",
       "0            b'BREAKING: Musharraf to be impeached.'   \n",
       "1        b'Bush puts foot down on Georgian conflict'   \n",
       "2                 b\"Russia 'ends Georgia operation'\"   \n",
       "3  b\"When the president ordered to attack Tskhinv...   \n",
       "4  b'War in South Osetia - 89 pictures made by a ...   \n",
       "\n",
       "                                                top3  \\\n",
       "0  b'Russia Today: Columns of troops roll into So...   \n",
       "1  b\"Jewish Georgian minister: Thanks to Israeli ...   \n",
       "2  b'\"If we had no sexual harassment we would hav...   \n",
       "3  b' Israel clears troops who killed Reuters cam...   \n",
       "4  b'Swedish wrestler Ara Abrahamian throws away ...   \n",
       "\n",
       "                                                top4  \\\n",
       "0  b'Russian tanks are moving towards the capital...   \n",
       "1  b'Georgian army flees in disarray as Russians ...   \n",
       "2  b\"Al-Qa'eda is losing support in Iraq because ...   \n",
       "3  b'Britain\\'s policy of being tough on drugs is...   \n",
       "4  b'Russia exaggerated the death toll in South O...   \n",
       "\n",
       "                                                top5  \\\n",
       "0  b\"Afghan children raped with 'impunity,' U.N. ...   \n",
       "1      b\"Olympic opening ceremony fireworks 'faked'\"   \n",
       "2  b'Ceasefire in Georgia: Putin Outmaneuvers the...   \n",
       "3  b'Body of 14 year old found in trunk; Latest (...   \n",
       "4  b'Missile That Killed 9 Inside Pakistan May Ha...   \n",
       "\n",
       "                                                top6  \\\n",
       "0  b'150 Russian tanks have entered South Ossetia...   \n",
       "1  b'What were the Mossad with fraudulent New Zea...   \n",
       "2  b'Why Microsoft and Intel tried to kill the XO...   \n",
       "3  b'China has moved 10 *million* quake survivors...   \n",
       "4  b\"Rushdie Condemns Random House's Refusal to P...   \n",
       "\n",
       "                                                top7  \\\n",
       "0  b\"Breaking: Georgia invades South Ossetia, Rus...   \n",
       "1  b'Russia angered by Israeli military sale to G...   \n",
       "2  b'Stratfor: The Russo-Georgian War and the Bal...   \n",
       "3  b\"Bush announces Operation Get All Up In Russi...   \n",
       "4  b'Poland and US agree to missle defense deal. ...   \n",
       "\n",
       "                                                top8  \\\n",
       "0  b\"The 'enemy combatent' trials are nothing but...   \n",
       "1  b'An American citizen living in S.Ossetia blam...   \n",
       "2  b\"I'm Trying to Get a Sense of This Whole Geor...   \n",
       "3             b'Russian forces sink Georgian ships '   \n",
       "4  b'Will the Russians conquer Tblisi? Bet on it,...   \n",
       "\n",
       "                         ...                          \\\n",
       "0                        ...                           \n",
       "1                        ...                           \n",
       "2                        ...                           \n",
       "3                        ...                           \n",
       "4                        ...                           \n",
       "\n",
       "                                               top16  \\\n",
       "0  b'Georgia Invades South Ossetia - if Russia ge...   \n",
       "1  b'Israel and the US behind the Georgian aggres...   \n",
       "2  b'U.S. troops still in Georgia (did you know t...   \n",
       "3                      b'Elephants extinct by 2020?'   \n",
       "4  b'Bank analyst forecast Georgian crisis 2 days...   \n",
       "\n",
       "                                               top17  \\\n",
       "0                b'Al-Qaeda Faces Islamist Backlash'   \n",
       "1  b'\"Do not believe TV, neither Russian nor Geor...   \n",
       "2       b'Why Russias response to Georgia was right'   \n",
       "3  b'US humanitarian missions soon in Georgia - i...   \n",
       "4  b\"Georgia confict could set back Russia's US r...   \n",
       "\n",
       "                                               top18  \\\n",
       "0  b'Condoleezza Rice: \"The US would not act to p...   \n",
       "1  b'Riots are still going on in Montreal (Canada...   \n",
       "2  b'Gorbachev accuses U.S. of making a \"serious ...   \n",
       "3             b\"Georgia's DDOS came from US sources\"   \n",
       "4  b'War in the Caucasus is as much the product o...   \n",
       "\n",
       "                                               top19  \\\n",
       "0  b'This is a busy day:  The European Union has ...   \n",
       "1    b'China to overtake US as largest manufacturer'   \n",
       "2         b'Russia, Georgia, and NATO: Cold War Two'   \n",
       "3  b'Russian convoy heads into Georgia, violating...   \n",
       "4  b'\"Non-media\" photos of South Ossetia/Georgia ...   \n",
       "\n",
       "                                               top20  \\\n",
       "0  b\"Georgia will withdraw 1,000 soldiers from Ir...   \n",
       "1                     b'War in South Ossetia [PICS]'   \n",
       "2  b'Remember that adorable 62-year-old who led y...   \n",
       "3  b'Israeli defence minister: US against strike ...   \n",
       "4  b'Georgian TV reporter shot by Russian sniper ...   \n",
       "\n",
       "                                               top21  \\\n",
       "0  b'Why the Pentagon Thinks Attacking Iran is a ...   \n",
       "1  b'Israeli Physicians Group Condemns State Tort...   \n",
       "2          b'War in Georgia: The Israeli connection'   \n",
       "3                     b'Gorbachev: We Had No Choice'   \n",
       "4  b'Saudi Arabia: Mother moves to block child ma...   \n",
       "\n",
       "                                               top22  \\\n",
       "0  b'Caucasus in crisis: Georgia invades South Os...   \n",
       "1  b' Russia has just beaten the United States ov...   \n",
       "2  b'All signs point to the US encouraging Georgi...   \n",
       "3  b'Witness: Russian forces head towards Tbilisi...   \n",
       "4   b'Taliban wages war on humanitarian aid workers'   \n",
       "\n",
       "                                               top23  \\\n",
       "0  b'Indian shoe manufactory  - And again in a se...   \n",
       "1  b'Perhaps *the* question about the Georgia - R...   \n",
       "2  b'Christopher King argues that the US and NATO...   \n",
       "3  b' Quarter of Russians blame U.S. for conflict...   \n",
       "4  b'Russia: World  \"can forget about\" Georgia\\'s...   \n",
       "\n",
       "                                               top24  \\\n",
       "0  b'Visitors Suffering from Mental Illnesses Ban...   \n",
       "1                 b'Russia is so much better at war'   \n",
       "2                        b'America: The New Mexico?'   \n",
       "3  b'Georgian president  says US military will ta...   \n",
       "4  b'Darfur rebels accuse Sudan of mounting major...   \n",
       "\n",
       "                                               top25  \n",
       "0           b\"No Help for Mexico's Kidnapping Surge\"  \n",
       "1  b\"So this is what it's come to: trading sex fo...  \n",
       "2  b\"BBC NEWS | Asia-Pacific | Extinction 'by man...  \n",
       "3  b'2006: Nobel laureate Aleksander Solzhenitsyn...  \n",
       "4  b'Philippines : Peace Advocate say Muslims nee...  \n",
       "\n",
       "[5 rows x 27 columns]"
      ]
     },
     "execution_count": 7,
     "metadata": {},
     "output_type": "execute_result"
    }
   ],
   "source": [
    "raw_data = pd.read_csv('data/Combined_News_DJIA.csv')\n",
    "raw_data.columns = raw_data.columns.str.lower()\n",
    "raw_data.head()"
   ]
  },
  {
   "cell_type": "code",
   "execution_count": 8,
   "metadata": {},
   "outputs": [],
   "source": [
    "raw_data_dropped = raw_data.dropna()"
   ]
  },
  {
   "cell_type": "code",
   "execution_count": 9,
   "metadata": {},
   "outputs": [],
   "source": [
    "# stop word removal function\n",
    "def generate_stop_word_free_dataset(dataframe):\n",
    "    df = dataframe.copy()\n",
    "    # iterate over every column\n",
    "    for column in df.columns:\n",
    "        # convert column values into an array where each row is an element in the array\n",
    "        sentences = df[column].tolist()\n",
    "        # remove stop words\n",
    "        if isinstance(sentences[0], str): # TODO: doesn't seem to be working properly\n",
    "            stop_wordless_sentences = []\n",
    "            for sentence in sentences:\n",
    "                split_sentence = sentence.split()\n",
    "                new_words = [word for word in split_sentence if word not in stopwords.words('english')]\n",
    "                # reconstruct the sentence\n",
    "                new_sentence = \" \".join(new_words)\n",
    "                stop_wordless_sentences.append(new_sentence)\n",
    "            # recolumnize into dataframe\n",
    "            df[column] = stop_wordless_sentences\n",
    "    return(df)"
   ]
  },
  {
   "cell_type": "code",
   "execution_count": 10,
   "metadata": {},
   "outputs": [
    {
     "name": "stderr",
     "output_type": "stream",
     "text": [
      "C:\\Users\\Daddy\\Anaconda3\\lib\\site-packages\\ipykernel_launcher.py:3: SettingWithCopyWarning:\n",
      "\n",
      "\n",
      "A value is trying to be set on a copy of a slice from a DataFrame.\n",
      "Try using .loc[row_indexer,col_indexer] = value instead\n",
      "\n",
      "See the caveats in the documentation: http://pandas.pydata.org/pandas-docs/stable/indexing.html#indexing-view-versus-copy\n",
      "\n"
     ]
    }
   ],
   "source": [
    "for column in raw_data_dropped.columns:\n",
    "    if \"top\" in column:\n",
    "        raw_data_dropped[column] = raw_data_dropped[column].str.lower()\n",
    "\n",
    "# creating our bearish holdout set for later testing\n",
    "raw_data_dropped = raw_data_dropped.set_index(['date']) # sets index to the date column so we can split by date ranges\n",
    "bearish_raw_data = raw_data_dropped.loc['2008-08-08':'2009-03-31']\n",
    "bullish_raw_data = raw_data_dropped.loc['2009-04-01':'2016-07-01']\n",
    "\n",
    "# resets all the indexes just because I feel like it\n",
    "raw_data_dropped = raw_data_dropped.reset_index()\n",
    "bearish_raw_data = bearish_raw_data.reset_index()\n",
    "bullish_raw_data = bullish_raw_data.reset_index()\n",
    "bullish_raw_data_labels = bullish_raw_data.pop('label')\n",
    "bearish_raw_data_labels = bearish_raw_data.pop('label')\n",
    "# pull date out so as to not learn historical patterns based on sequence\n",
    "bullish_raw_data_dates = bullish_raw_data.pop('date')\n",
    "bearish_raw_data_dates = bearish_raw_data.pop('date')\n",
    "\n",
    "# generate stop wordless datasets\n",
    "bullish_stop_words_free_data = generate_stop_word_free_dataset(bullish_raw_data)\n",
    "bearish_stop_words_free_data = generate_stop_word_free_dataset(bearish_raw_data)"
   ]
  },
  {
   "cell_type": "markdown",
   "metadata": {},
   "source": [
    "## Visualizations"
   ]
  },
  {
   "cell_type": "markdown",
   "metadata": {},
   "source": [
    "### Bullish Set Word Frequencies"
   ]
  },
  {
   "cell_type": "code",
   "execution_count": 11,
   "metadata": {},
   "outputs": [
    {
     "data": {
      "application/vnd.plotly.v1+json": {
       "config": {
        "linkText": "Export to plot.ly",
        "plotlyServerURL": "https://plot.ly",
        "showLink": true
       },
       "data": [
        {
         "marker": {
          "color": [
           2277,
           2197,
           1660,
           1643,
           1478,
           1375,
           1313,
           1205,
           1185,
           1184,
           1152,
           1132,
           1111,
           1094,
           1089,
           1066,
           1045,
           1007,
           976,
           974,
           966,
           933,
           922,
           913,
           907,
           902,
           900,
           893,
           881,
           874,
           873,
           854,
           830,
           804,
           783,
           775,
           766,
           762,
           753,
           748,
           741,
           729,
           721,
           716,
           712,
           705,
           702,
           679,
           677,
           669,
           662,
           651,
           636,
           635,
           621,
           620,
           606,
           600,
           596,
           596,
           593,
           571,
           565,
           559,
           557,
           552,
           549,
           546,
           544,
           544,
           541,
           540,
           537,
           536,
           534,
           534,
           532,
           527,
           524,
           518,
           516,
           514,
           513,
           511,
           506,
           506,
           505,
           505,
           501,
           496,
           495,
           495,
           491,
           486,
           486,
           483,
           480,
           474
          ],
          "colorscale": "Jet"
         },
         "text": "Word counts",
         "type": "bar",
         "uid": "718d4458-c83d-4dbf-935e-d037657faebd",
         "x": [
          "says",
          "new",
          "police",
          "government",
          "people",
          "china",
          "world",
          "u.s.",
          "first",
          "israel",
          "one",
          "president",
          "years",
          "killed",
          "north",
          "russia",
          "war",
          "russian",
          "two",
          "military",
          "uk",
          "israeli",
          "&amp;"
         ],
         "y": [
          2277,
          2197,
          1660,
          1643,
          1478,
          1375,
          1313,
          1205,
          1185,
          1184,
          1152,
          1132,
          1111,
          1094,
          1089,
          1066,
          1045,
          1007,
          976,
          974,
          966,
          933,
          922
         ]
        }
       ],
       "layout": {
        "title": "Top 25 Bullish"
       }
      },
      "text/html": [
       "<div id=\"eeab9a65-a837-4e43-83a7-a84093ae79b9\" style=\"height: 525px; width: 100%;\" class=\"plotly-graph-div\"></div><script type=\"text/javascript\">require([\"plotly\"], function(Plotly) { window.PLOTLYENV=window.PLOTLYENV || {};window.PLOTLYENV.BASE_URL=\"https://plot.ly\";Plotly.newPlot(\"eeab9a65-a837-4e43-83a7-a84093ae79b9\", [{\"marker\": {\"color\": [2277, 2197, 1660, 1643, 1478, 1375, 1313, 1205, 1185, 1184, 1152, 1132, 1111, 1094, 1089, 1066, 1045, 1007, 976, 974, 966, 933, 922, 913, 907, 902, 900, 893, 881, 874, 873, 854, 830, 804, 783, 775, 766, 762, 753, 748, 741, 729, 721, 716, 712, 705, 702, 679, 677, 669, 662, 651, 636, 635, 621, 620, 606, 600, 596, 596, 593, 571, 565, 559, 557, 552, 549, 546, 544, 544, 541, 540, 537, 536, 534, 534, 532, 527, 524, 518, 516, 514, 513, 511, 506, 506, 505, 505, 501, 496, 495, 495, 491, 486, 486, 483, 480, 474], \"colorscale\": \"Jet\"}, \"text\": \"Word counts\", \"x\": [\"says\", \"new\", \"police\", \"government\", \"people\", \"china\", \"world\", \"u.s.\", \"first\", \"israel\", \"one\", \"president\", \"years\", \"killed\", \"north\", \"russia\", \"war\", \"russian\", \"two\", \"military\", \"uk\", \"israeli\", \"&amp;\"], \"y\": [2277, 2197, 1660, 1643, 1478, 1375, 1313, 1205, 1185, 1184, 1152, 1132, 1111, 1094, 1089, 1066, 1045, 1007, 976, 974, 966, 933, 922], \"type\": \"bar\", \"uid\": \"718d4458-c83d-4dbf-935e-d037657faebd\"}], {\"title\": \"Top 25 Bullish\"}, {\"showLink\": true, \"linkText\": \"Export to plot.ly\", \"plotlyServerURL\": \"https://plot.ly\"})});</script><script type=\"text/javascript\">window.addEventListener(\"resize\", function(){window._Plotly.Plots.resize(document.getElementById(\"eeab9a65-a837-4e43-83a7-a84093ae79b9\"));});</script>"
      ],
      "text/vnd.plotly.v1+html": [
       "<div id=\"eeab9a65-a837-4e43-83a7-a84093ae79b9\" style=\"height: 525px; width: 100%;\" class=\"plotly-graph-div\"></div><script type=\"text/javascript\">require([\"plotly\"], function(Plotly) { window.PLOTLYENV=window.PLOTLYENV || {};window.PLOTLYENV.BASE_URL=\"https://plot.ly\";Plotly.newPlot(\"eeab9a65-a837-4e43-83a7-a84093ae79b9\", [{\"marker\": {\"color\": [2277, 2197, 1660, 1643, 1478, 1375, 1313, 1205, 1185, 1184, 1152, 1132, 1111, 1094, 1089, 1066, 1045, 1007, 976, 974, 966, 933, 922, 913, 907, 902, 900, 893, 881, 874, 873, 854, 830, 804, 783, 775, 766, 762, 753, 748, 741, 729, 721, 716, 712, 705, 702, 679, 677, 669, 662, 651, 636, 635, 621, 620, 606, 600, 596, 596, 593, 571, 565, 559, 557, 552, 549, 546, 544, 544, 541, 540, 537, 536, 534, 534, 532, 527, 524, 518, 516, 514, 513, 511, 506, 506, 505, 505, 501, 496, 495, 495, 491, 486, 486, 483, 480, 474], \"colorscale\": \"Jet\"}, \"text\": \"Word counts\", \"x\": [\"says\", \"new\", \"police\", \"government\", \"people\", \"china\", \"world\", \"u.s.\", \"first\", \"israel\", \"one\", \"president\", \"years\", \"killed\", \"north\", \"russia\", \"war\", \"russian\", \"two\", \"military\", \"uk\", \"israeli\", \"&amp;\"], \"y\": [2277, 2197, 1660, 1643, 1478, 1375, 1313, 1205, 1185, 1184, 1152, 1132, 1111, 1094, 1089, 1066, 1045, 1007, 976, 974, 966, 933, 922], \"type\": \"bar\", \"uid\": \"718d4458-c83d-4dbf-935e-d037657faebd\"}], {\"title\": \"Top 25 Bullish\"}, {\"showLink\": true, \"linkText\": \"Export to plot.ly\", \"plotlyServerURL\": \"https://plot.ly\"})});</script><script type=\"text/javascript\">window.addEventListener(\"resize\", function(){window._Plotly.Plots.resize(document.getElementById(\"eeab9a65-a837-4e43-83a7-a84093ae79b9\"));});</script>"
      ]
     },
     "metadata": {},
     "output_type": "display_data"
    }
   ],
   "source": [
    "headline_list= []\n",
    "for column in bullish_stop_words_free_data.columns:\n",
    "    if \"top\" in column:\n",
    "        sentences = bullish_stop_words_free_data[column].tolist()\n",
    "        headline_list += sentences\n",
    "        \n",
    "headline_list = pd.DataFrame(headline_list)\n",
    "bullish_headlines_no_stopwords = headline_list[0].str.split(expand=True).unstack().value_counts()\n",
    "data = [go.Bar(\n",
    "            x = bullish_headlines_no_stopwords.index.values[2:25],\n",
    "            y = bullish_headlines_no_stopwords.values[2:25],\n",
    "            marker= dict(colorscale='Jet',color=bullish_headlines_no_stopwords.values[2:100]),\n",
    "            text='Word counts')]\n",
    "\n",
    "layout = go.Layout(title='Top 25 Bullish')\n",
    "figure = go.Figure(data=data, layout=layout)\n",
    "py.iplot(figure, filename='bullish-freq')"
   ]
  },
  {
   "cell_type": "markdown",
   "metadata": {},
   "source": [
    "### Bearish Set Word Frequencies"
   ]
  },
  {
   "cell_type": "code",
   "execution_count": 12,
   "metadata": {},
   "outputs": [
    {
     "data": {
      "application/vnd.plotly.v1+json": {
       "config": {
        "linkText": "Export to plot.ly",
        "plotlyServerURL": "https://plot.ly",
        "showLink": true
       },
       "data": [
        {
         "marker": {
          "color": [
           200,
           164,
           145,
           143,
           142,
           130,
           126,
           125,
           108,
           89,
           83,
           78,
           78,
           76,
           76,
           73,
           72,
           65,
           64,
           64,
           63,
           63,
           61,
           59,
           56,
           55,
           55,
           53,
           53,
           52,
           52,
           52,
           51,
           51,
           50,
           50,
           49,
           48,
           48,
           47,
           47,
           46,
           46,
           45,
           45,
           44,
           42,
           41,
           41,
           41,
           41,
           41,
           40,
           40,
           40,
           40,
           39,
           39,
           39,
           38,
           38,
           38,
           38,
           38,
           37,
           37,
           37,
           37,
           37,
           37,
           36,
           36,
           36,
           36,
           36,
           35,
           35,
           35,
           34,
           34,
           33,
           33,
           33,
           33,
           32,
           32,
           32,
           32,
           32,
           32,
           31,
           31,
           31,
           31,
           30,
           30,
           30,
           30
          ],
          "colorscale": "Jet"
         },
         "text": "Word counts",
         "type": "bar",
         "uid": "5b88c159-9a1e-4ca6-83c1-a6c92fa2726b",
         "x": [
          "us",
          "gaza",
          "israel",
          "israeli",
          "b'the",
          "says",
          "war",
          "u.s.",
          "new",
          "b'israel",
          "government",
          "people",
          "killed",
          "police",
          "world",
          "b'israeli",
          "\"",
          "one",
          "may",
          "b'",
          "military",
          "attack",
          "nuclear"
         ],
         "y": [
          200,
          164,
          145,
          143,
          142,
          130,
          126,
          125,
          108,
          89,
          83,
          78,
          78,
          76,
          76,
          73,
          72,
          65,
          64,
          64,
          63,
          63,
          61
         ]
        }
       ],
       "layout": {
        "title": "Top 25 Bearish"
       }
      },
      "text/html": [
       "<div id=\"51b60e5f-2429-4e57-9e19-90e1711d653b\" style=\"height: 525px; width: 100%;\" class=\"plotly-graph-div\"></div><script type=\"text/javascript\">require([\"plotly\"], function(Plotly) { window.PLOTLYENV=window.PLOTLYENV || {};window.PLOTLYENV.BASE_URL=\"https://plot.ly\";Plotly.newPlot(\"51b60e5f-2429-4e57-9e19-90e1711d653b\", [{\"marker\": {\"color\": [200, 164, 145, 143, 142, 130, 126, 125, 108, 89, 83, 78, 78, 76, 76, 73, 72, 65, 64, 64, 63, 63, 61, 59, 56, 55, 55, 53, 53, 52, 52, 52, 51, 51, 50, 50, 49, 48, 48, 47, 47, 46, 46, 45, 45, 44, 42, 41, 41, 41, 41, 41, 40, 40, 40, 40, 39, 39, 39, 38, 38, 38, 38, 38, 37, 37, 37, 37, 37, 37, 36, 36, 36, 36, 36, 35, 35, 35, 34, 34, 33, 33, 33, 33, 32, 32, 32, 32, 32, 32, 31, 31, 31, 31, 30, 30, 30, 30], \"colorscale\": \"Jet\"}, \"text\": \"Word counts\", \"x\": [\"us\", \"gaza\", \"israel\", \"israeli\", \"b'the\", \"says\", \"war\", \"u.s.\", \"new\", \"b'israel\", \"government\", \"people\", \"killed\", \"police\", \"world\", \"b'israeli\", \"\\\"\", \"one\", \"may\", \"b'\", \"military\", \"attack\", \"nuclear\"], \"y\": [200, 164, 145, 143, 142, 130, 126, 125, 108, 89, 83, 78, 78, 76, 76, 73, 72, 65, 64, 64, 63, 63, 61], \"type\": \"bar\", \"uid\": \"5b88c159-9a1e-4ca6-83c1-a6c92fa2726b\"}], {\"title\": \"Top 25 Bearish\"}, {\"showLink\": true, \"linkText\": \"Export to plot.ly\", \"plotlyServerURL\": \"https://plot.ly\"})});</script><script type=\"text/javascript\">window.addEventListener(\"resize\", function(){window._Plotly.Plots.resize(document.getElementById(\"51b60e5f-2429-4e57-9e19-90e1711d653b\"));});</script>"
      ],
      "text/vnd.plotly.v1+html": [
       "<div id=\"51b60e5f-2429-4e57-9e19-90e1711d653b\" style=\"height: 525px; width: 100%;\" class=\"plotly-graph-div\"></div><script type=\"text/javascript\">require([\"plotly\"], function(Plotly) { window.PLOTLYENV=window.PLOTLYENV || {};window.PLOTLYENV.BASE_URL=\"https://plot.ly\";Plotly.newPlot(\"51b60e5f-2429-4e57-9e19-90e1711d653b\", [{\"marker\": {\"color\": [200, 164, 145, 143, 142, 130, 126, 125, 108, 89, 83, 78, 78, 76, 76, 73, 72, 65, 64, 64, 63, 63, 61, 59, 56, 55, 55, 53, 53, 52, 52, 52, 51, 51, 50, 50, 49, 48, 48, 47, 47, 46, 46, 45, 45, 44, 42, 41, 41, 41, 41, 41, 40, 40, 40, 40, 39, 39, 39, 38, 38, 38, 38, 38, 37, 37, 37, 37, 37, 37, 36, 36, 36, 36, 36, 35, 35, 35, 34, 34, 33, 33, 33, 33, 32, 32, 32, 32, 32, 32, 31, 31, 31, 31, 30, 30, 30, 30], \"colorscale\": \"Jet\"}, \"text\": \"Word counts\", \"x\": [\"us\", \"gaza\", \"israel\", \"israeli\", \"b'the\", \"says\", \"war\", \"u.s.\", \"new\", \"b'israel\", \"government\", \"people\", \"killed\", \"police\", \"world\", \"b'israeli\", \"\\\"\", \"one\", \"may\", \"b'\", \"military\", \"attack\", \"nuclear\"], \"y\": [200, 164, 145, 143, 142, 130, 126, 125, 108, 89, 83, 78, 78, 76, 76, 73, 72, 65, 64, 64, 63, 63, 61], \"type\": \"bar\", \"uid\": \"5b88c159-9a1e-4ca6-83c1-a6c92fa2726b\"}], {\"title\": \"Top 25 Bearish\"}, {\"showLink\": true, \"linkText\": \"Export to plot.ly\", \"plotlyServerURL\": \"https://plot.ly\"})});</script><script type=\"text/javascript\">window.addEventListener(\"resize\", function(){window._Plotly.Plots.resize(document.getElementById(\"51b60e5f-2429-4e57-9e19-90e1711d653b\"));});</script>"
      ]
     },
     "metadata": {},
     "output_type": "display_data"
    }
   ],
   "source": [
    "headline_list= []\n",
    "for column in bearish_stop_words_free_data.columns:\n",
    "    if \"top\" in column:\n",
    "        sentences = bearish_stop_words_free_data[column].tolist()\n",
    "        headline_list += sentences\n",
    "        \n",
    "headline_list = pd.DataFrame(headline_list)\n",
    "bearish_headlines_no_stopwords = headline_list[0].str.split(expand=True).unstack().value_counts()\n",
    "data = [go.Bar(\n",
    "            x = bearish_headlines_no_stopwords.index.values[2:25],\n",
    "            y = bearish_headlines_no_stopwords.values[2:25],\n",
    "            marker= dict(colorscale='Jet',color=bearish_headlines_no_stopwords.values[2:100]),\n",
    "            text='Word counts')]\n",
    "\n",
    "layout = go.Layout(title='Top 25 Bearish')\n",
    "figure = go.Figure(data=data, layout=layout)\n",
    "py.iplot(figure, filename='bearish-freq')"
   ]
  },
  {
   "cell_type": "markdown",
   "metadata": {},
   "source": [
    "## Preprocessing"
   ]
  },
  {
   "cell_type": "code",
   "execution_count": 13,
   "metadata": {},
   "outputs": [],
   "source": [
    "# def numpy_fillna(data):\n",
    "#     # Get lengths of each row of data\n",
    "#     lens = np.array([len(i) for i in data])\n",
    "\n",
    "#     # Mask of valid places in each row\n",
    "#     mask = np.arange(lens.max()) < lens[:,None]\n",
    "\n",
    "#     # Setup output array and put elements from data into masked positions\n",
    "#     out = np.zeros(mask.shape, dtype=data.dtype)\n",
    "#     out[mask] = np.concatenate(data)\n",
    "#     return out"
   ]
  },
  {
   "cell_type": "code",
   "execution_count": 14,
   "metadata": {},
   "outputs": [],
   "source": [
    "def split_data(x_data, y_data, test_percent_size):\n",
    "    return train_test_split(x_data, y_data, test_size=test_percent_size, random_state=42)"
   ]
  },
  {
   "cell_type": "code",
   "execution_count": 15,
   "metadata": {},
   "outputs": [],
   "source": [
    "def convert_sentences_to_vector_mean(dataframe):\n",
    "    df = dataframe.copy()\n",
    "    # iterate over every column\n",
    "    for column in dataframe.columns:\n",
    "    #     with pd.option_context('display.max_rows', None, 'display.max_columns', None):\n",
    "    #         print(df[column])\n",
    "        # convert column values into a list where each row is an element in the list\n",
    "        sentences = dataframe[column].tolist()\n",
    "        sentence_vectors = infersent.encode(sentences)\n",
    "    #     sentence_vectors_filled = numpy_fillna(sentence_vectors) # fill jagged array, just in case\n",
    "        sentence_vector_means = np.mean(sentence_vectors, axis=1)\n",
    "        df[column] = sentence_vector_means\n",
    "    return df"
   ]
  },
  {
   "cell_type": "markdown",
   "metadata": {},
   "source": [
    "# Bullish Dataset"
   ]
  },
  {
   "cell_type": "markdown",
   "metadata": {},
   "source": [
    "### Splitting"
   ]
  },
  {
   "cell_type": "code",
   "execution_count": 16,
   "metadata": {},
   "outputs": [],
   "source": [
    "# to avoid introducing unseen information from the test set into the training\n",
    "# splitting data before preprocessing\n",
    "bullish_x_train, bullish_x_test, bullish_y_train, bullish_y_test = split_data(bullish_raw_data, bullish_raw_data_labels, 0.2)\n",
    "bullish_sw_free_x_train, bullish_sw_free_x_test, bullish_sw_free_y_train, bullish_sw_free_y_test = split_data(bullish_stop_words_free_data, bullish_raw_data_labels, 0.2)"
   ]
  },
  {
   "cell_type": "markdown",
   "metadata": {},
   "source": [
    "### Vectorizing"
   ]
  },
  {
   "cell_type": "code",
   "execution_count": 17,
   "metadata": {},
   "outputs": [],
   "source": [
    "bullish_x_train_encoded = convert_sentences_to_vector_mean(bullish_x_train)\n",
    "bullish_x_test_encoded = convert_sentences_to_vector_mean(bullish_x_test)\n",
    "\n",
    "bullish_sw_free_x_train_encoded = convert_sentences_to_vector_mean(bullish_sw_free_x_train)\n",
    "bullish_sw_free_x_test_encoded = convert_sentences_to_vector_mean(bullish_sw_free_x_test)"
   ]
  },
  {
   "cell_type": "markdown",
   "metadata": {},
   "source": [
    "### Scaling"
   ]
  },
  {
   "cell_type": "code",
   "execution_count": 42,
   "metadata": {},
   "outputs": [],
   "source": [
    "with_stopwords_scaler = StandardScaler()\n",
    "bullish_x_train_scaled = with_stopwords_scaler.fit_transform(bullish_x_train_encoded)\n",
    "bullish_x_test_scaled = with_stopwords_scaler.transform(bullish_x_test_encoded)\n",
    "\n",
    "without_stopwords_scaler = StandardScaler()\n",
    "bullish_sw_free_x_train_scaled = without_stopwords_scaler.fit_transform(bullish_sw_free_x_train_encoded)\n",
    "bullish_sw_free_x_test_scaled = without_stopwords_scaler.transform(bullish_sw_free_x_test_encoded)"
   ]
  },
  {
   "cell_type": "markdown",
   "metadata": {},
   "source": [
    "## Training"
   ]
  },
  {
   "cell_type": "code",
   "execution_count": 50,
   "metadata": {},
   "outputs": [
    {
     "data": {
      "text/plain": [
       "SVC(C=1.0, cache_size=200, class_weight=None, coef0=0.0,\n",
       "  decision_function_shape='ovr', degree=3, gamma='auto', kernel='rbf',\n",
       "  max_iter=-1, probability=False, random_state=None, shrinking=True,\n",
       "  tol=0.001, verbose=False)"
      ]
     },
     "execution_count": 50,
     "metadata": {},
     "output_type": "execute_result"
    }
   ],
   "source": [
    "bullish_model = SVC(gamma='auto')\n",
    "bullish_model.fit(bullish_x_train_scaled, bullish_y_train)\n",
    "\n",
    "bullish_sw_free_model = SVC(gamma='auto')\n",
    "bullish_sw_free_model.fit(bullish_sw_free_x_train_scaled, bullish_sw_free_y_train)"
   ]
  },
  {
   "cell_type": "code",
   "execution_count": 51,
   "metadata": {},
   "outputs": [],
   "source": [
    "bullish_y_pred = bullish_model.predict(bullish_x_test_scaled)\n",
    "bullish_sw_free_y_pred = bullish_sw_free_model.predict(bullish_sw_free_x_test_scaled)"
   ]
  },
  {
   "cell_type": "markdown",
   "metadata": {},
   "source": [
    "## Metrics"
   ]
  },
  {
   "cell_type": "code",
   "execution_count": 52,
   "metadata": {},
   "outputs": [],
   "source": [
    "def calculate_metrics(y_true, y_pred):\n",
    "    # accuracy\n",
    "    accuracy = accuracy_score(y_true, y_pred)\n",
    "\n",
    "    # precision\n",
    "    precision = precision_score(y_true, y_pred)\n",
    "\n",
    "    # recall\n",
    "    recall = recall_score(y_true, y_pred)\n",
    "\n",
    "    # f1\n",
    "    f1 = f1_score(y_true, y_pred)\n",
    "\n",
    "    # confusion matrix\n",
    "    # confusion_matrix = confusion_matrix(y_true, y_pred)\n",
    "\n",
    "    trace = go.Table(cells=dict(values=[[\"Accuracy\", \"Precision\", \"Recall\", \"F1\"],\n",
    "                                        [accuracy, precision, recall, f1]]))\n",
    "\n",
    "    data = [trace] \n",
    "    return py.iplot(data, filename = 'metrics_table')"
   ]
  },
  {
   "cell_type": "markdown",
   "metadata": {},
   "source": [
    "## NLP Model Results"
   ]
  },
  {
   "cell_type": "markdown",
   "metadata": {},
   "source": [
    "### With Stopwords"
   ]
  },
  {
   "cell_type": "code",
   "execution_count": 53,
   "metadata": {},
   "outputs": [
    {
     "data": {
      "application/vnd.plotly.v1+json": {
       "config": {
        "linkText": "Export to plot.ly",
        "plotlyServerURL": "https://plot.ly",
        "showLink": true
       },
       "data": [
        {
         "cells": {
          "values": [
           [
            "Accuracy",
            "Precision",
            "Recall",
            "F1"
           ],
           [
            0.5150684931506849,
            0.552,
            0.6798029556650246,
            0.6092715231788081
           ]
          ]
         },
         "type": "table",
         "uid": "a04af896-a008-4f63-8ef9-7777ada22a95"
        }
       ],
       "layout": {}
      },
      "text/html": [
       "<div id=\"385dbb5c-037c-41ec-a168-245de8f346cd\" style=\"height: 525px; width: 100%;\" class=\"plotly-graph-div\"></div><script type=\"text/javascript\">require([\"plotly\"], function(Plotly) { window.PLOTLYENV=window.PLOTLYENV || {};window.PLOTLYENV.BASE_URL=\"https://plot.ly\";Plotly.newPlot(\"385dbb5c-037c-41ec-a168-245de8f346cd\", [{\"cells\": {\"values\": [[\"Accuracy\", \"Precision\", \"Recall\", \"F1\"], [0.5150684931506849, 0.552, 0.6798029556650246, 0.6092715231788081]]}, \"type\": \"table\", \"uid\": \"0f4726ad-3183-4727-956c-88d5dc279246\"}], {}, {\"showLink\": true, \"linkText\": \"Export to plot.ly\", \"plotlyServerURL\": \"https://plot.ly\"})});</script><script type=\"text/javascript\">window.addEventListener(\"resize\", function(){window._Plotly.Plots.resize(document.getElementById(\"385dbb5c-037c-41ec-a168-245de8f346cd\"));});</script>"
      ],
      "text/vnd.plotly.v1+html": [
       "<div id=\"385dbb5c-037c-41ec-a168-245de8f346cd\" style=\"height: 525px; width: 100%;\" class=\"plotly-graph-div\"></div><script type=\"text/javascript\">require([\"plotly\"], function(Plotly) { window.PLOTLYENV=window.PLOTLYENV || {};window.PLOTLYENV.BASE_URL=\"https://plot.ly\";Plotly.newPlot(\"385dbb5c-037c-41ec-a168-245de8f346cd\", [{\"cells\": {\"values\": [[\"Accuracy\", \"Precision\", \"Recall\", \"F1\"], [0.5150684931506849, 0.552, 0.6798029556650246, 0.6092715231788081]]}, \"type\": \"table\", \"uid\": \"0f4726ad-3183-4727-956c-88d5dc279246\"}], {}, {\"showLink\": true, \"linkText\": \"Export to plot.ly\", \"plotlyServerURL\": \"https://plot.ly\"})});</script><script type=\"text/javascript\">window.addEventListener(\"resize\", function(){window._Plotly.Plots.resize(document.getElementById(\"385dbb5c-037c-41ec-a168-245de8f346cd\"));});</script>"
      ]
     },
     "metadata": {},
     "output_type": "display_data"
    }
   ],
   "source": [
    "calculate_metrics(bullish_y_test, bullish_y_pred)"
   ]
  },
  {
   "cell_type": "markdown",
   "metadata": {},
   "source": [
    "### Without Stopwords"
   ]
  },
  {
   "cell_type": "code",
   "execution_count": 54,
   "metadata": {},
   "outputs": [
    {
     "data": {
      "application/vnd.plotly.v1+json": {
       "config": {
        "linkText": "Export to plot.ly",
        "plotlyServerURL": "https://plot.ly",
        "showLink": true
       },
       "data": [
        {
         "cells": {
          "values": [
           [
            "Accuracy",
            "Precision",
            "Recall",
            "F1"
           ],
           [
            0.5287671232876713,
            0.5617529880478087,
            0.6945812807881774,
            0.6211453744493391
           ]
          ]
         },
         "type": "table",
         "uid": "93208d79-0318-49ca-b03b-89fd5822e41e"
        }
       ],
       "layout": {}
      },
      "text/html": [
       "<div id=\"38f8aebe-aa2e-4416-b6fb-f0a55a66ecb1\" style=\"height: 525px; width: 100%;\" class=\"plotly-graph-div\"></div><script type=\"text/javascript\">require([\"plotly\"], function(Plotly) { window.PLOTLYENV=window.PLOTLYENV || {};window.PLOTLYENV.BASE_URL=\"https://plot.ly\";Plotly.newPlot(\"38f8aebe-aa2e-4416-b6fb-f0a55a66ecb1\", [{\"cells\": {\"values\": [[\"Accuracy\", \"Precision\", \"Recall\", \"F1\"], [0.5287671232876713, 0.5617529880478087, 0.6945812807881774, 0.6211453744493391]]}, \"type\": \"table\", \"uid\": \"e6247a36-c596-4b46-9fb0-bbc57ae26bc2\"}], {}, {\"showLink\": true, \"linkText\": \"Export to plot.ly\", \"plotlyServerURL\": \"https://plot.ly\"})});</script><script type=\"text/javascript\">window.addEventListener(\"resize\", function(){window._Plotly.Plots.resize(document.getElementById(\"38f8aebe-aa2e-4416-b6fb-f0a55a66ecb1\"));});</script>"
      ],
      "text/vnd.plotly.v1+html": [
       "<div id=\"38f8aebe-aa2e-4416-b6fb-f0a55a66ecb1\" style=\"height: 525px; width: 100%;\" class=\"plotly-graph-div\"></div><script type=\"text/javascript\">require([\"plotly\"], function(Plotly) { window.PLOTLYENV=window.PLOTLYENV || {};window.PLOTLYENV.BASE_URL=\"https://plot.ly\";Plotly.newPlot(\"38f8aebe-aa2e-4416-b6fb-f0a55a66ecb1\", [{\"cells\": {\"values\": [[\"Accuracy\", \"Precision\", \"Recall\", \"F1\"], [0.5287671232876713, 0.5617529880478087, 0.6945812807881774, 0.6211453744493391]]}, \"type\": \"table\", \"uid\": \"e6247a36-c596-4b46-9fb0-bbc57ae26bc2\"}], {}, {\"showLink\": true, \"linkText\": \"Export to plot.ly\", \"plotlyServerURL\": \"https://plot.ly\"})});</script><script type=\"text/javascript\">window.addEventListener(\"resize\", function(){window._Plotly.Plots.resize(document.getElementById(\"38f8aebe-aa2e-4416-b6fb-f0a55a66ecb1\"));});</script>"
      ]
     },
     "metadata": {},
     "output_type": "display_data"
    }
   ],
   "source": [
    "calculate_metrics(bullish_sw_free_y_test, bullish_sw_free_y_pred)"
   ]
  },
  {
   "cell_type": "markdown",
   "metadata": {},
   "source": [
    "## Benchmark Models"
   ]
  },
  {
   "cell_type": "code",
   "execution_count": 24,
   "metadata": {},
   "outputs": [
    {
     "data": {
      "text/plain": [
       "DummyClassifier(constant=1, random_state=42, strategy='constant')"
      ]
     },
     "execution_count": 24,
     "metadata": {},
     "output_type": "execute_result"
    }
   ],
   "source": [
    "benchmark_model_stratified = DummyClassifier(strategy='stratified', random_state=42)\n",
    "benchmark_model_stratified.fit(bullish_x_train_scaled, bullish_y_train)\n",
    "\n",
    "benchmark_model_constant = DummyClassifier(strategy='constant', random_state=42, constant=1)\n",
    "benchmark_model_constant.fit(bullish_x_train_scaled, bullish_y_train)\n",
    "\n",
    "benchmark_model_stratified = DummyClassifier(strategy='stratified', random_state=42)\n",
    "benchmark_model_stratified.fit(bullish_sw_free_x_train_scaled, bullish_sw_free_y_train)\n",
    "\n",
    "benchmark_model_constant = DummyClassifier(strategy='constant', random_state=42, constant=1)\n",
    "benchmark_model_constant.fit(bullish_sw_free_x_train_scaled, bullish_sw_free_y_train)"
   ]
  },
  {
   "cell_type": "code",
   "execution_count": 25,
   "metadata": {},
   "outputs": [],
   "source": [
    "stratified_y_pred = benchmark_model_stratified.predict(bullish_x_test_scaled)\n",
    "stratified_sw_free_y_pred = benchmark_model_stratified.predict(bullish_sw_free_x_test_scaled)"
   ]
  },
  {
   "cell_type": "code",
   "execution_count": 26,
   "metadata": {},
   "outputs": [],
   "source": [
    "constant_y_pred = benchmark_model_constant.predict(bullish_x_test_scaled)\n",
    "constant_sw_free_y_pred = benchmark_model_constant.predict(bullish_sw_free_x_test_scaled)"
   ]
  },
  {
   "cell_type": "markdown",
   "metadata": {},
   "source": [
    "### Benchmark Results With Stopwords"
   ]
  },
  {
   "cell_type": "code",
   "execution_count": 27,
   "metadata": {},
   "outputs": [
    {
     "data": {
      "application/vnd.plotly.v1+json": {
       "config": {
        "linkText": "Export to plot.ly",
        "plotlyServerURL": "https://plot.ly",
        "showLink": true
       },
       "data": [
        {
         "cells": {
          "values": [
           [
            "Accuracy",
            "Precision",
            "Recall",
            "F1"
           ],
           [
            0.5013698630136987,
            0.5538461538461539,
            0.5320197044334976,
            0.542713567839196
           ]
          ]
         },
         "type": "table",
         "uid": "f63a1142-7065-48aa-a3d9-330d03b49a6b"
        }
       ],
       "layout": {}
      },
      "text/html": [
       "<div id=\"1767dd99-7894-4462-97ac-2d20846029ae\" style=\"height: 525px; width: 100%;\" class=\"plotly-graph-div\"></div><script type=\"text/javascript\">require([\"plotly\"], function(Plotly) { window.PLOTLYENV=window.PLOTLYENV || {};window.PLOTLYENV.BASE_URL=\"https://plot.ly\";Plotly.newPlot(\"1767dd99-7894-4462-97ac-2d20846029ae\", [{\"cells\": {\"values\": [[\"Accuracy\", \"Precision\", \"Recall\", \"F1\"], [0.5013698630136987, 0.5538461538461539, 0.5320197044334976, 0.542713567839196]]}, \"type\": \"table\", \"uid\": \"3693d537-2b0b-4b38-bba8-354733efb528\"}], {}, {\"showLink\": true, \"linkText\": \"Export to plot.ly\", \"plotlyServerURL\": \"https://plot.ly\"})});</script><script type=\"text/javascript\">window.addEventListener(\"resize\", function(){window._Plotly.Plots.resize(document.getElementById(\"1767dd99-7894-4462-97ac-2d20846029ae\"));});</script>"
      ],
      "text/vnd.plotly.v1+html": [
       "<div id=\"1767dd99-7894-4462-97ac-2d20846029ae\" style=\"height: 525px; width: 100%;\" class=\"plotly-graph-div\"></div><script type=\"text/javascript\">require([\"plotly\"], function(Plotly) { window.PLOTLYENV=window.PLOTLYENV || {};window.PLOTLYENV.BASE_URL=\"https://plot.ly\";Plotly.newPlot(\"1767dd99-7894-4462-97ac-2d20846029ae\", [{\"cells\": {\"values\": [[\"Accuracy\", \"Precision\", \"Recall\", \"F1\"], [0.5013698630136987, 0.5538461538461539, 0.5320197044334976, 0.542713567839196]]}, \"type\": \"table\", \"uid\": \"3693d537-2b0b-4b38-bba8-354733efb528\"}], {}, {\"showLink\": true, \"linkText\": \"Export to plot.ly\", \"plotlyServerURL\": \"https://plot.ly\"})});</script><script type=\"text/javascript\">window.addEventListener(\"resize\", function(){window._Plotly.Plots.resize(document.getElementById(\"1767dd99-7894-4462-97ac-2d20846029ae\"));});</script>"
      ]
     },
     "metadata": {},
     "output_type": "display_data"
    }
   ],
   "source": [
    "calculate_metrics(bullish_y_test, stratified_y_pred)"
   ]
  },
  {
   "cell_type": "code",
   "execution_count": 28,
   "metadata": {},
   "outputs": [
    {
     "data": {
      "application/vnd.plotly.v1+json": {
       "config": {
        "linkText": "Export to plot.ly",
        "plotlyServerURL": "https://plot.ly",
        "showLink": true
       },
       "data": [
        {
         "cells": {
          "values": [
           [
            "Accuracy",
            "Precision",
            "Recall",
            "F1"
           ],
           [
            0.5561643835616439,
            0.5561643835616439,
            1,
            0.7147887323943662
           ]
          ]
         },
         "type": "table",
         "uid": "4fb5a2df-19fb-41b6-aded-33561288b8e0"
        }
       ],
       "layout": {}
      },
      "text/html": [
       "<div id=\"5671a6c3-0fe8-40f0-8794-84b4e10bab1e\" style=\"height: 525px; width: 100%;\" class=\"plotly-graph-div\"></div><script type=\"text/javascript\">require([\"plotly\"], function(Plotly) { window.PLOTLYENV=window.PLOTLYENV || {};window.PLOTLYENV.BASE_URL=\"https://plot.ly\";Plotly.newPlot(\"5671a6c3-0fe8-40f0-8794-84b4e10bab1e\", [{\"cells\": {\"values\": [[\"Accuracy\", \"Precision\", \"Recall\", \"F1\"], [0.5561643835616439, 0.5561643835616439, 1.0, 0.7147887323943662]]}, \"type\": \"table\", \"uid\": \"4a6f2d7f-2fc1-4f2e-a415-c4d9bb33be09\"}], {}, {\"showLink\": true, \"linkText\": \"Export to plot.ly\", \"plotlyServerURL\": \"https://plot.ly\"})});</script><script type=\"text/javascript\">window.addEventListener(\"resize\", function(){window._Plotly.Plots.resize(document.getElementById(\"5671a6c3-0fe8-40f0-8794-84b4e10bab1e\"));});</script>"
      ],
      "text/vnd.plotly.v1+html": [
       "<div id=\"5671a6c3-0fe8-40f0-8794-84b4e10bab1e\" style=\"height: 525px; width: 100%;\" class=\"plotly-graph-div\"></div><script type=\"text/javascript\">require([\"plotly\"], function(Plotly) { window.PLOTLYENV=window.PLOTLYENV || {};window.PLOTLYENV.BASE_URL=\"https://plot.ly\";Plotly.newPlot(\"5671a6c3-0fe8-40f0-8794-84b4e10bab1e\", [{\"cells\": {\"values\": [[\"Accuracy\", \"Precision\", \"Recall\", \"F1\"], [0.5561643835616439, 0.5561643835616439, 1.0, 0.7147887323943662]]}, \"type\": \"table\", \"uid\": \"4a6f2d7f-2fc1-4f2e-a415-c4d9bb33be09\"}], {}, {\"showLink\": true, \"linkText\": \"Export to plot.ly\", \"plotlyServerURL\": \"https://plot.ly\"})});</script><script type=\"text/javascript\">window.addEventListener(\"resize\", function(){window._Plotly.Plots.resize(document.getElementById(\"5671a6c3-0fe8-40f0-8794-84b4e10bab1e\"));});</script>"
      ]
     },
     "metadata": {},
     "output_type": "display_data"
    }
   ],
   "source": [
    "calculate_metrics(bullish_y_test, constant_y_pred)"
   ]
  },
  {
   "cell_type": "markdown",
   "metadata": {},
   "source": [
    "### Benchmark Results Without Stopwords"
   ]
  },
  {
   "cell_type": "code",
   "execution_count": 29,
   "metadata": {},
   "outputs": [
    {
     "data": {
      "application/vnd.plotly.v1+json": {
       "config": {
        "linkText": "Export to plot.ly",
        "plotlyServerURL": "https://plot.ly",
        "showLink": true
       },
       "data": [
        {
         "cells": {
          "values": [
           [
            "Accuracy",
            "Precision",
            "Recall",
            "F1"
           ],
           [
            0.5013698630136987,
            0.5538461538461539,
            0.5320197044334976,
            0.542713567839196
           ]
          ]
         },
         "type": "table",
         "uid": "04913c57-c5dd-4ecc-b669-b05d3215caf1"
        }
       ],
       "layout": {}
      },
      "text/html": [
       "<div id=\"2031ab17-c069-46cd-b5de-b22fc0761f13\" style=\"height: 525px; width: 100%;\" class=\"plotly-graph-div\"></div><script type=\"text/javascript\">require([\"plotly\"], function(Plotly) { window.PLOTLYENV=window.PLOTLYENV || {};window.PLOTLYENV.BASE_URL=\"https://plot.ly\";Plotly.newPlot(\"2031ab17-c069-46cd-b5de-b22fc0761f13\", [{\"cells\": {\"values\": [[\"Accuracy\", \"Precision\", \"Recall\", \"F1\"], [0.5013698630136987, 0.5538461538461539, 0.5320197044334976, 0.542713567839196]]}, \"type\": \"table\", \"uid\": \"a0d4a0b6-5370-4c05-90f8-d9c38ed93951\"}], {}, {\"showLink\": true, \"linkText\": \"Export to plot.ly\", \"plotlyServerURL\": \"https://plot.ly\"})});</script><script type=\"text/javascript\">window.addEventListener(\"resize\", function(){window._Plotly.Plots.resize(document.getElementById(\"2031ab17-c069-46cd-b5de-b22fc0761f13\"));});</script>"
      ],
      "text/vnd.plotly.v1+html": [
       "<div id=\"2031ab17-c069-46cd-b5de-b22fc0761f13\" style=\"height: 525px; width: 100%;\" class=\"plotly-graph-div\"></div><script type=\"text/javascript\">require([\"plotly\"], function(Plotly) { window.PLOTLYENV=window.PLOTLYENV || {};window.PLOTLYENV.BASE_URL=\"https://plot.ly\";Plotly.newPlot(\"2031ab17-c069-46cd-b5de-b22fc0761f13\", [{\"cells\": {\"values\": [[\"Accuracy\", \"Precision\", \"Recall\", \"F1\"], [0.5013698630136987, 0.5538461538461539, 0.5320197044334976, 0.542713567839196]]}, \"type\": \"table\", \"uid\": \"a0d4a0b6-5370-4c05-90f8-d9c38ed93951\"}], {}, {\"showLink\": true, \"linkText\": \"Export to plot.ly\", \"plotlyServerURL\": \"https://plot.ly\"})});</script><script type=\"text/javascript\">window.addEventListener(\"resize\", function(){window._Plotly.Plots.resize(document.getElementById(\"2031ab17-c069-46cd-b5de-b22fc0761f13\"));});</script>"
      ]
     },
     "metadata": {},
     "output_type": "display_data"
    }
   ],
   "source": [
    "calculate_metrics(bullish_sw_free_y_test, stratified_sw_free_y_pred)"
   ]
  },
  {
   "cell_type": "code",
   "execution_count": 30,
   "metadata": {},
   "outputs": [
    {
     "data": {
      "application/vnd.plotly.v1+json": {
       "config": {
        "linkText": "Export to plot.ly",
        "plotlyServerURL": "https://plot.ly",
        "showLink": true
       },
       "data": [
        {
         "cells": {
          "values": [
           [
            "Accuracy",
            "Precision",
            "Recall",
            "F1"
           ],
           [
            0.5561643835616439,
            0.5561643835616439,
            1,
            0.7147887323943662
           ]
          ]
         },
         "type": "table",
         "uid": "56b85a18-6e77-4e9d-ad3b-964fb40862f0"
        }
       ],
       "layout": {}
      },
      "text/html": [
       "<div id=\"ae6d409f-edbc-499c-91b8-9b586d03a756\" style=\"height: 525px; width: 100%;\" class=\"plotly-graph-div\"></div><script type=\"text/javascript\">require([\"plotly\"], function(Plotly) { window.PLOTLYENV=window.PLOTLYENV || {};window.PLOTLYENV.BASE_URL=\"https://plot.ly\";Plotly.newPlot(\"ae6d409f-edbc-499c-91b8-9b586d03a756\", [{\"cells\": {\"values\": [[\"Accuracy\", \"Precision\", \"Recall\", \"F1\"], [0.5561643835616439, 0.5561643835616439, 1.0, 0.7147887323943662]]}, \"type\": \"table\", \"uid\": \"f8dab7f6-d550-4fb5-acba-307bf3f708ed\"}], {}, {\"showLink\": true, \"linkText\": \"Export to plot.ly\", \"plotlyServerURL\": \"https://plot.ly\"})});</script><script type=\"text/javascript\">window.addEventListener(\"resize\", function(){window._Plotly.Plots.resize(document.getElementById(\"ae6d409f-edbc-499c-91b8-9b586d03a756\"));});</script>"
      ],
      "text/vnd.plotly.v1+html": [
       "<div id=\"ae6d409f-edbc-499c-91b8-9b586d03a756\" style=\"height: 525px; width: 100%;\" class=\"plotly-graph-div\"></div><script type=\"text/javascript\">require([\"plotly\"], function(Plotly) { window.PLOTLYENV=window.PLOTLYENV || {};window.PLOTLYENV.BASE_URL=\"https://plot.ly\";Plotly.newPlot(\"ae6d409f-edbc-499c-91b8-9b586d03a756\", [{\"cells\": {\"values\": [[\"Accuracy\", \"Precision\", \"Recall\", \"F1\"], [0.5561643835616439, 0.5561643835616439, 1.0, 0.7147887323943662]]}, \"type\": \"table\", \"uid\": \"f8dab7f6-d550-4fb5-acba-307bf3f708ed\"}], {}, {\"showLink\": true, \"linkText\": \"Export to plot.ly\", \"plotlyServerURL\": \"https://plot.ly\"})});</script><script type=\"text/javascript\">window.addEventListener(\"resize\", function(){window._Plotly.Plots.resize(document.getElementById(\"ae6d409f-edbc-499c-91b8-9b586d03a756\"));});</script>"
      ]
     },
     "metadata": {},
     "output_type": "display_data"
    }
   ],
   "source": [
    "calculate_metrics(bullish_sw_free_y_test, constant_sw_free_y_pred)"
   ]
  },
  {
   "cell_type": "markdown",
   "metadata": {},
   "source": [
    "### Class Distribution Visualization"
   ]
  },
  {
   "cell_type": "code",
   "execution_count": 31,
   "metadata": {},
   "outputs": [
    {
     "data": {
      "application/vnd.plotly.v1+json": {
       "config": {
        "linkText": "Export to plot.ly",
        "plotlyServerURL": "https://plot.ly",
        "showLink": true
       },
       "data": [
        {
         "type": "bar",
         "uid": "7410a6dc-d0b9-4377-b727-0051a757dac2",
         "x": [
          "Positive or Neutral",
          "Negative"
         ],
         "y": [
          786,
          673
         ]
        }
       ],
       "layout": {}
      },
      "text/html": [
       "<div id=\"65de5950-5ab4-49eb-bef1-22e26b8853ef\" style=\"height: 525px; width: 100%;\" class=\"plotly-graph-div\"></div><script type=\"text/javascript\">require([\"plotly\"], function(Plotly) { window.PLOTLYENV=window.PLOTLYENV || {};window.PLOTLYENV.BASE_URL=\"https://plot.ly\";Plotly.newPlot(\"65de5950-5ab4-49eb-bef1-22e26b8853ef\", [{\"x\": [\"Positive or Neutral\", \"Negative\"], \"y\": [786, 673], \"type\": \"bar\", \"uid\": \"113e9093-d605-4d15-9716-1b863e415fa9\"}], {}, {\"showLink\": true, \"linkText\": \"Export to plot.ly\", \"plotlyServerURL\": \"https://plot.ly\"})});</script><script type=\"text/javascript\">window.addEventListener(\"resize\", function(){window._Plotly.Plots.resize(document.getElementById(\"65de5950-5ab4-49eb-bef1-22e26b8853ef\"));});</script>"
      ],
      "text/vnd.plotly.v1+html": [
       "<div id=\"65de5950-5ab4-49eb-bef1-22e26b8853ef\" style=\"height: 525px; width: 100%;\" class=\"plotly-graph-div\"></div><script type=\"text/javascript\">require([\"plotly\"], function(Plotly) { window.PLOTLYENV=window.PLOTLYENV || {};window.PLOTLYENV.BASE_URL=\"https://plot.ly\";Plotly.newPlot(\"65de5950-5ab4-49eb-bef1-22e26b8853ef\", [{\"x\": [\"Positive or Neutral\", \"Negative\"], \"y\": [786, 673], \"type\": \"bar\", \"uid\": \"113e9093-d605-4d15-9716-1b863e415fa9\"}], {}, {\"showLink\": true, \"linkText\": \"Export to plot.ly\", \"plotlyServerURL\": \"https://plot.ly\"})});</script><script type=\"text/javascript\">window.addEventListener(\"resize\", function(){window._Plotly.Plots.resize(document.getElementById(\"65de5950-5ab4-49eb-bef1-22e26b8853ef\"));});</script>"
      ]
     },
     "metadata": {},
     "output_type": "display_data"
    }
   ],
   "source": [
    "trace = go.Bar(x=[\"Positive or Neutral\", \"Negative\"],\n",
    "               y=[np.count_nonzero(bullish_y_train==1),\n",
    "                  len(bullish_y_train)-np.count_nonzero(bullish_y_train==1)])\n",
    "data = [trace] \n",
    "py.iplot(data, filename='distribution_chart')"
   ]
  },
  {
   "cell_type": "markdown",
   "metadata": {},
   "source": [
    "### Hyper-parameter Tuning"
   ]
  },
  {
   "cell_type": "code",
   "execution_count": 49,
   "metadata": {},
   "outputs": [
    {
     "name": "stdout",
     "output_type": "stream",
     "text": [
      "SVC(C=100, cache_size=200, class_weight=None, coef0=0.0,\n",
      "  decision_function_shape='ovr', degree=3, gamma=0.001, kernel='rbf',\n",
      "  max_iter=-1, probability=False, random_state=None, shrinking=True,\n",
      "  tol=0.001, verbose=False)\n"
     ]
    }
   ],
   "source": [
    "parameter_grid = [{'kernel': ['rbf'], 'gamma': [1e-3, 1e-4], \n",
    "                   'C': [1, 10, 100, 1000]},\n",
    "                  {'kernel': ['linear'], 'gamma': [1e-3, 1e-4],\n",
    "                     'C': [1, 10, 100, 1000]},\n",
    "                  {'kernel': ['poly'], 'gamma': [1e-3, 1e-4],\n",
    "                     'C': [1, 10, 100, 1000]},\n",
    "                 {'kernel': ['sigmoid'], 'gamma': [1e-3, 1e-4],\n",
    "                     'C': [1, 10, 100, 1000]}]\n",
    "\n",
    "grid_search = GridSearchCV(bullish_sw_free_model,\n",
    "                   parameter_grid, cv=5, scoring='precision', return_train_score=True)\n",
    "    #roc_auc, 'recall', precision\n",
    "grid_search.fit(bullish_sw_free_x_test_scaled, bullish_sw_free_y_test)\n",
    "print(grid_search.best_estimator_)"
   ]
  },
  {
   "cell_type": "markdown",
   "metadata": {},
   "source": [
    "# Generalization to Bearish Holdout Set"
   ]
  },
  {
   "cell_type": "markdown",
   "metadata": {},
   "source": [
    "## Preprocessing"
   ]
  },
  {
   "cell_type": "code",
   "execution_count": 61,
   "metadata": {},
   "outputs": [],
   "source": [
    "# bearish_x_train, bearish_x_test, bearish_y_train, bearish_y_test =  split_data(bearish_stop_words_free_data,\n",
    "#                                                                                bearish_raw_data_labels,\n",
    "#                                                                                0.2)\n",
    "bearish_encoded = convert_sentences_to_vector_mean(bearish_stop_words_free_data)"
   ]
  },
  {
   "cell_type": "code",
   "execution_count": 62,
   "metadata": {},
   "outputs": [],
   "source": [
    "bearish_scaled = without_stopwords_scaler.transform(bearish_encoded)"
   ]
  },
  {
   "cell_type": "code",
   "execution_count": 63,
   "metadata": {},
   "outputs": [],
   "source": [
    "bearish_y_pred = bullish_sw_free_model.predict(bearish_scaled)"
   ]
  },
  {
   "cell_type": "code",
   "execution_count": 64,
   "metadata": {},
   "outputs": [
    {
     "data": {
      "application/vnd.plotly.v1+json": {
       "config": {
        "linkText": "Export to plot.ly",
        "plotlyServerURL": "https://plot.ly",
        "showLink": true
       },
       "data": [
        {
         "cells": {
          "values": [
           [
            "Accuracy",
            "Precision",
            "Recall",
            "F1"
           ],
           [
            0.5123456790123457,
            0.475,
            0.7808219178082192,
            0.5906735751295336
           ]
          ]
         },
         "type": "table",
         "uid": "7fb680a0-fca7-4708-99de-ed343b381110"
        }
       ],
       "layout": {}
      },
      "text/html": [
       "<div id=\"6637c114-9d2e-4f76-8922-d9fec514fe5a\" style=\"height: 525px; width: 100%;\" class=\"plotly-graph-div\"></div><script type=\"text/javascript\">require([\"plotly\"], function(Plotly) { window.PLOTLYENV=window.PLOTLYENV || {};window.PLOTLYENV.BASE_URL=\"https://plot.ly\";Plotly.newPlot(\"6637c114-9d2e-4f76-8922-d9fec514fe5a\", [{\"cells\": {\"values\": [[\"Accuracy\", \"Precision\", \"Recall\", \"F1\"], [0.5123456790123457, 0.475, 0.7808219178082192, 0.5906735751295336]]}, \"type\": \"table\", \"uid\": \"8dac5496-4611-452d-9c27-38b72a127651\"}], {}, {\"showLink\": true, \"linkText\": \"Export to plot.ly\", \"plotlyServerURL\": \"https://plot.ly\"})});</script><script type=\"text/javascript\">window.addEventListener(\"resize\", function(){window._Plotly.Plots.resize(document.getElementById(\"6637c114-9d2e-4f76-8922-d9fec514fe5a\"));});</script>"
      ],
      "text/vnd.plotly.v1+html": [
       "<div id=\"6637c114-9d2e-4f76-8922-d9fec514fe5a\" style=\"height: 525px; width: 100%;\" class=\"plotly-graph-div\"></div><script type=\"text/javascript\">require([\"plotly\"], function(Plotly) { window.PLOTLYENV=window.PLOTLYENV || {};window.PLOTLYENV.BASE_URL=\"https://plot.ly\";Plotly.newPlot(\"6637c114-9d2e-4f76-8922-d9fec514fe5a\", [{\"cells\": {\"values\": [[\"Accuracy\", \"Precision\", \"Recall\", \"F1\"], [0.5123456790123457, 0.475, 0.7808219178082192, 0.5906735751295336]]}, \"type\": \"table\", \"uid\": \"8dac5496-4611-452d-9c27-38b72a127651\"}], {}, {\"showLink\": true, \"linkText\": \"Export to plot.ly\", \"plotlyServerURL\": \"https://plot.ly\"})});</script><script type=\"text/javascript\">window.addEventListener(\"resize\", function(){window._Plotly.Plots.resize(document.getElementById(\"6637c114-9d2e-4f76-8922-d9fec514fe5a\"));});</script>"
      ]
     },
     "metadata": {},
     "output_type": "display_data"
    }
   ],
   "source": [
    "calculate_metrics(bearish_raw_data_labels, bearish_y_pred)"
   ]
  },
  {
   "cell_type": "code",
   "execution_count": null,
   "metadata": {},
   "outputs": [],
   "source": []
  }
 ],
 "metadata": {
  "kernelspec": {
   "display_name": "Python 3",
   "language": "python",
   "name": "python3"
  },
  "language_info": {
   "codemirror_mode": {
    "name": "ipython",
    "version": 3
   },
   "file_extension": ".py",
   "mimetype": "text/x-python",
   "name": "python",
   "nbconvert_exporter": "python",
   "pygments_lexer": "ipython3",
   "version": "3.6.5"
  }
 },
 "nbformat": 4,
 "nbformat_minor": 2
}
